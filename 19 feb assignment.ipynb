{
 "cells": [
  {
   "cell_type": "markdown",
   "id": "d564ff97-5b1f-4ab3-a81f-7ba7c51b9ca4",
   "metadata": {},
   "source": [
    "# 19 feb assignment (flask1)"
   ]
  },
  {
   "cell_type": "markdown",
   "id": "1300d9ea-f93a-46a5-9e30-ed5ab34417ce",
   "metadata": {},
   "source": [
    "# Q1. What is Flask Framework? What are the advantages of Flask Framework?"
   ]
  },
  {
   "cell_type": "markdown",
   "id": "3f501996-e1a1-42b4-9bea-7de7973baaa4",
   "metadata": {},
   "source": [
    "Flask Framework:\n",
    "- Flask is a lightweight and extensible web framework for Python.\n",
    "- Designed to be simple and easy to use, allowing developers to build web applications quickly.\n",
    "\n",
    "Advantages of Flask Framework:\n",
    "1. Simplicity: Flask follows a minimalist design philosophy, making it easy to learn and use.\n",
    "2. Flexibility: Offers flexibility in choosing components, libraries, and extensions based on project requirements.\n",
    "3. Modularity: Allows building modular applications, enabling better code organization and maintainability.\n",
    "4. Jinja2 Templating: Integrates Jinja2 templating engine for dynamic content rendering.\n",
    "5. Werkzeug Integration: Built on Werkzeug, a WSGI utility library, providing a solid foundation for web development.\n",
    "6. Extensibility: Supports extensions to add functionality, ensuring a lightweight core with optional features.\n",
    "7. Built-in Development Server: Includes a built-in development server for quick testing and development.\n",
    "8. Active Community: Has a vibrant community and ecosystem with numerous plugins and extensions.\n",
    "9. Scalability: While not designed for large-scale applications, Flask can be used for a variety of projects, \n",
    "including prototypes and small to medium-sized applications.\n",
    "\n",
    "In short, Flask is a lightweight and flexible web framework for Python, known for its simplicity, modularity, and extensibility."
   ]
  },
  {
   "cell_type": "markdown",
   "id": "71593de4-b731-4a1f-9ab7-ef5d0f4ac777",
   "metadata": {},
   "source": [
    "# Q2. Create a simple Flask application to display ‘Hello World!!’. Attach the screenshot of the output in Jupyter Notebook."
   ]
  },
  {
   "cell_type": "markdown",
   "id": "d02145b3-aec5-4818-9fdc-c388c3547851",
   "metadata": {},
   "source": [
    "screenshot attached in 2nd file"
   ]
  },
  {
   "cell_type": "markdown",
   "id": "76fd84ca-3542-4cb7-b8a2-f0aa2a7a4ae3",
   "metadata": {},
   "source": [
    "# Q3. What is App routing in Flask? Why do we use app routes?"
   ]
  },
  {
   "cell_type": "markdown",
   "id": "e6fbaff9-9b1e-4a32-bb10-bc7d738784ba",
   "metadata": {},
   "source": [
    "**App Routing in Flask:**\n",
    "- App routing in Flask refers to defining URL patterns (routes) for handling different HTTP requests.\n",
    "- In Flask, routes are defined using the `@app.route()` decorator, associating a URL with a function.\n",
    "\n",
    "**Why Do We Use App Routes in Flask?**\n",
    "- **Request Handling:** Routes define how different HTTP requests are handled by the Flask application.\n",
    "- **URL Mapping:** Associates specific URLs with corresponding functions to generate responses.\n",
    "- **Modular Structure:** Enables the creation of modular and organized web applications.\n",
    "- **Code Readability:** Improves code readability by separating concerns based on URL patterns.\n",
    "- **RESTful APIs:** Facilitates the creation of RESTful APIs by mapping endpoints to functions.\n",
    "- **Flexibility:** Allows developers to design the application's URL structure based on project requirements.\n",
    "\n",
    "In short, app routes in Flask define how the application responds to different URLs, promoting modular design, readability, and flexibility in web application development."
   ]
  },
  {
   "cell_type": "markdown",
   "id": "e564e761-7987-40bb-a82a-904a2cddf9ee",
   "metadata": {},
   "source": [
    "# Q4. Create a “/welcome” route to display the welcome message “Welcome to ABC Corporation” and a “/” route to show the following details:\n",
    "# Company Name: ABC Corporation\n",
    "# Location: India\n",
    "# Contact Detail: 999-999-9999\n",
    "# Attach the screenshot of the output in Jupyter Notebook."
   ]
  },
  {
   "cell_type": "markdown",
   "id": "5c880745-e651-4110-b718-05b1f5c4744a",
   "metadata": {},
   "source": [
    "screenshot attached"
   ]
  },
  {
   "cell_type": "markdown",
   "id": "d3565607-06c0-454c-a00c-8eecc5280e1d",
   "metadata": {},
   "source": [
    "# Q5. What function is used in Flask for URL Building? Write a Python code to demonstrate the working of the url_for() function."
   ]
  },
  {
   "cell_type": "code",
   "execution_count": null,
   "id": "27d72826-1542-4dc8-a9c4-8f54f492f3b7",
   "metadata": {},
   "outputs": [],
   "source": []
  }
 ],
 "metadata": {
  "kernelspec": {
   "display_name": "Python 3 (ipykernel)",
   "language": "python",
   "name": "python3"
  },
  "language_info": {
   "codemirror_mode": {
    "name": "ipython",
    "version": 3
   },
   "file_extension": ".py",
   "mimetype": "text/x-python",
   "name": "python",
   "nbconvert_exporter": "python",
   "pygments_lexer": "ipython3",
   "version": "3.10.8"
  }
 },
 "nbformat": 4,
 "nbformat_minor": 5
}
